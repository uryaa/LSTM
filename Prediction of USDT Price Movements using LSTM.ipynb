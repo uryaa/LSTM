{
 "cells": [
  {
   "cell_type": "markdown",
   "id": "3ff50e4e",
   "metadata": {},
   "source": [
    "## Project description\n",
    "\n",
    "In this project, we utilize a Long Short-Term Memory (LSTM) neural network to predict Bitcoin (BTC) prices against the US Dollar (USDT) using historical price data. The model is trained on data collected from the Binance API, with the goal of making accurate predictions for future price movements. The project demonstrates data preprocessing, feature engineering, model creation, and evaluation."
   ]
  },
  {
   "cell_type": "markdown",
   "id": "47b268e6",
   "metadata": {},
   "source": [
    "### Importing Libraries"
   ]
  },
  {
   "cell_type": "code",
   "execution_count": 109,
   "id": "9add5443",
   "metadata": {
    "id": "9add5443"
   },
   "outputs": [],
   "source": [
    "import requests\n",
    "import json\n",
    "import pandas as pd\n",
    "import time\n",
    "import numpy as np\n",
    "from sklearn.model_selection import train_test_split\n",
    "from tensorflow.keras.models import Sequential\n",
    "from tensorflow.keras.layers import *\n",
    "from tensorflow.keras.callbacks import ModelCheckpoint\n",
    "from tensorflow.keras.losses import MeanSquaredError\n",
    "from sklearn.metrics import mean_squared_error\n",
    "from tensorflow.keras.metrics import RootMeanSquaredError\n",
    "from tensorflow.keras.optimizers import Adam\n",
    "from tensorflow.keras import regularizers\n",
    "import matplotlib.pyplot as plt\n",
    "from sklearn.preprocessing import MinMaxScaler"
   ]
  },
  {
   "cell_type": "markdown",
   "id": "25e009f1",
   "metadata": {},
   "source": [
    "### API Setup\n",
    "Here we define the endpoint for Binance’s API, which provides historical price data for BTCUSDT at a 2-hour interval, starting from 2018."
   ]
  },
  {
   "cell_type": "code",
   "execution_count": 67,
   "id": "7eWeSsugHwFb",
   "metadata": {
    "id": "7eWeSsugHwFb"
   },
   "outputs": [],
   "source": [
    "# define the API endpoint\n",
    "endpoint = 'https://api.binance.com/api/v3/klines'"
   ]
  },
  {
   "cell_type": "code",
   "execution_count": 81,
   "id": "uZssbG_5HwIM",
   "metadata": {
    "id": "uZssbG_5HwIM"
   },
   "outputs": [],
   "source": [
    "# define the parameters for the API request\n",
    "symbol = 'BTCUSDT'\n",
    "interval = '2h'\n",
    "startTime = '1514764800000'  # 2018-01-01 00:00:00\n",
    "endTime = str(int(time.time()) * 1000)  # current time in milliseconds"
   ]
  },
  {
   "cell_type": "code",
   "execution_count": 82,
   "id": "v6HSkfYrHwKi",
   "metadata": {
    "id": "v6HSkfYrHwKi"
   },
   "outputs": [],
   "source": [
    "# create an empty DataFrame to store the results\n",
    "cols = ['timestamp','open', 'high', 'low', 'close', 'volume', 'close_time',\n",
    "        'quote_asset_volume', 'number_of_trades', 'taker_buy_base_asset_volume',\n",
    "        'taker_buy_quote_asset_volume', 'ignore']\n",
    "df = pd.DataFrame(columns=cols)"
   ]
  },
  {
   "cell_type": "markdown",
   "id": "29828810",
   "metadata": {},
   "source": [
    "### Feature Engineering\n",
    "\n",
    "We initiate an API loop to gather all available historical data by making multiple requests and appending the results to a pandas DataFrame. This continues until all available data is collected."
   ]
  },
  {
   "cell_type": "code",
   "execution_count": 84,
   "id": "TegX3rBVHwNJ",
   "metadata": {
    "id": "TegX3rBVHwNJ"
   },
   "outputs": [],
   "source": [
    "# loop through the API to get all available historical data\n",
    "while True:\n",
    "    # make the API request\n",
    "    res = requests.get(endpoint, params={'symbol': symbol, 'interval': interval,\n",
    "                                          'startTime': startTime, 'endTime': endTime,\n",
    "                                          'limit': 1000})\n",
    "    \n",
    "    # check if the request was successful\n",
    "    if res.status_code != 200:\n",
    "        print(f'Request failed with status code {res.status_code}.')\n",
    "        break\n",
    "    \n",
    "    # convert the response to a pandas DataFrame\n",
    "    res_df = pd.DataFrame(res.json(), columns=cols)\n",
    "    res_df = res_df.astype(float)\n",
    "    res_df['timestamp'] = pd.to_datetime(res_df['timestamp'], unit='ms')\n",
    "    res_df.set_index('timestamp', inplace=True)\n",
    "    \n",
    "    # append the results to the main DataFrame\n",
    "    df = pd.concat([df, res_df])\n",
    "    \n",
    "    # check if we have reached the end of the available data\n",
    "    if len(res_df) < 1000:\n",
    "        break\n",
    "    \n",
    "    # update start time for next request\n",
    "    startTime = str(int(res_df.index[-1].timestamp() * 1000))\n",
    "    \n",
    "    # sleep for 1 second before sending the next request\n",
    "    time.sleep(1)"
   ]
  },
  {
   "cell_type": "code",
   "execution_count": 85,
   "id": "655c2b00",
   "metadata": {},
   "outputs": [
    {
     "data": {
      "text/html": [
       "<div>\n",
       "<style scoped>\n",
       "    .dataframe tbody tr th:only-of-type {\n",
       "        vertical-align: middle;\n",
       "    }\n",
       "\n",
       "    .dataframe tbody tr th {\n",
       "        vertical-align: top;\n",
       "    }\n",
       "\n",
       "    .dataframe thead th {\n",
       "        text-align: right;\n",
       "    }\n",
       "</style>\n",
       "<table border=\"1\" class=\"dataframe\">\n",
       "  <thead>\n",
       "    <tr style=\"text-align: right;\">\n",
       "      <th></th>\n",
       "      <th>timestamp</th>\n",
       "      <th>open</th>\n",
       "      <th>high</th>\n",
       "      <th>low</th>\n",
       "      <th>close</th>\n",
       "      <th>volume</th>\n",
       "      <th>close_time</th>\n",
       "      <th>quote_asset_volume</th>\n",
       "      <th>number_of_trades</th>\n",
       "      <th>taker_buy_base_asset_volume</th>\n",
       "      <th>taker_buy_quote_asset_volume</th>\n",
       "      <th>ignore</th>\n",
       "    </tr>\n",
       "  </thead>\n",
       "  <tbody>\n",
       "    <tr>\n",
       "      <th>2018-01-01 00:00:00</th>\n",
       "      <td>NaN</td>\n",
       "      <td>13715.65</td>\n",
       "      <td>13715.65</td>\n",
       "      <td>13155.38</td>\n",
       "      <td>13203.06</td>\n",
       "      <td>827.053205</td>\n",
       "      <td>1.514772e+12</td>\n",
       "      <td>1.114843e+07</td>\n",
       "      <td>9762.0</td>\n",
       "      <td>409.362324</td>\n",
       "      <td>5.520991e+06</td>\n",
       "      <td>0.0</td>\n",
       "    </tr>\n",
       "    <tr>\n",
       "      <th>2018-01-01 02:00:00</th>\n",
       "      <td>NaN</td>\n",
       "      <td>13203.00</td>\n",
       "      <td>13611.27</td>\n",
       "      <td>13200.00</td>\n",
       "      <td>13410.03</td>\n",
       "      <td>849.151602</td>\n",
       "      <td>1.514779e+12</td>\n",
       "      <td>1.136764e+07</td>\n",
       "      <td>9676.0</td>\n",
       "      <td>330.156342</td>\n",
       "      <td>4.416546e+06</td>\n",
       "      <td>0.0</td>\n",
       "    </tr>\n",
       "    <tr>\n",
       "      <th>2018-01-01 04:00:00</th>\n",
       "      <td>NaN</td>\n",
       "      <td>13434.98</td>\n",
       "      <td>13699.00</td>\n",
       "      <td>13322.15</td>\n",
       "      <td>13558.99</td>\n",
       "      <td>745.036375</td>\n",
       "      <td>1.514786e+12</td>\n",
       "      <td>1.008710e+07</td>\n",
       "      <td>9649.0</td>\n",
       "      <td>315.288693</td>\n",
       "      <td>4.263768e+06</td>\n",
       "      <td>0.0</td>\n",
       "    </tr>\n",
       "    <tr>\n",
       "      <th>2018-01-01 06:00:00</th>\n",
       "      <td>NaN</td>\n",
       "      <td>13539.00</td>\n",
       "      <td>13818.55</td>\n",
       "      <td>13510.00</td>\n",
       "      <td>13570.35</td>\n",
       "      <td>557.178461</td>\n",
       "      <td>1.514794e+12</td>\n",
       "      <td>7.615434e+06</td>\n",
       "      <td>8412.0</td>\n",
       "      <td>273.227529</td>\n",
       "      <td>3.735027e+06</td>\n",
       "      <td>0.0</td>\n",
       "    </tr>\n",
       "    <tr>\n",
       "      <th>2018-01-01 08:00:00</th>\n",
       "      <td>NaN</td>\n",
       "      <td>13569.98</td>\n",
       "      <td>13735.24</td>\n",
       "      <td>13400.00</td>\n",
       "      <td>13616.99</td>\n",
       "      <td>484.909382</td>\n",
       "      <td>1.514801e+12</td>\n",
       "      <td>6.575049e+06</td>\n",
       "      <td>6861.0</td>\n",
       "      <td>219.279895</td>\n",
       "      <td>2.974658e+06</td>\n",
       "      <td>0.0</td>\n",
       "    </tr>\n",
       "  </tbody>\n",
       "</table>\n",
       "</div>"
      ],
      "text/plain": [
       "                    timestamp      open      high       low     close  \\\n",
       "2018-01-01 00:00:00       NaN  13715.65  13715.65  13155.38  13203.06   \n",
       "2018-01-01 02:00:00       NaN  13203.00  13611.27  13200.00  13410.03   \n",
       "2018-01-01 04:00:00       NaN  13434.98  13699.00  13322.15  13558.99   \n",
       "2018-01-01 06:00:00       NaN  13539.00  13818.55  13510.00  13570.35   \n",
       "2018-01-01 08:00:00       NaN  13569.98  13735.24  13400.00  13616.99   \n",
       "\n",
       "                         volume    close_time  quote_asset_volume  \\\n",
       "2018-01-01 00:00:00  827.053205  1.514772e+12        1.114843e+07   \n",
       "2018-01-01 02:00:00  849.151602  1.514779e+12        1.136764e+07   \n",
       "2018-01-01 04:00:00  745.036375  1.514786e+12        1.008710e+07   \n",
       "2018-01-01 06:00:00  557.178461  1.514794e+12        7.615434e+06   \n",
       "2018-01-01 08:00:00  484.909382  1.514801e+12        6.575049e+06   \n",
       "\n",
       "                     number_of_trades  taker_buy_base_asset_volume  \\\n",
       "2018-01-01 00:00:00            9762.0                   409.362324   \n",
       "2018-01-01 02:00:00            9676.0                   330.156342   \n",
       "2018-01-01 04:00:00            9649.0                   315.288693   \n",
       "2018-01-01 06:00:00            8412.0                   273.227529   \n",
       "2018-01-01 08:00:00            6861.0                   219.279895   \n",
       "\n",
       "                     taker_buy_quote_asset_volume  ignore  \n",
       "2018-01-01 00:00:00                  5.520991e+06     0.0  \n",
       "2018-01-01 02:00:00                  4.416546e+06     0.0  \n",
       "2018-01-01 04:00:00                  4.263768e+06     0.0  \n",
       "2018-01-01 06:00:00                  3.735027e+06     0.0  \n",
       "2018-01-01 08:00:00                  2.974658e+06     0.0  "
      ]
     },
     "execution_count": 85,
     "metadata": {},
     "output_type": "execute_result"
    }
   ],
   "source": [
    "df.head(5)"
   ]
  },
  {
   "cell_type": "code",
   "execution_count": 72,
   "id": "OZVQ28roHwPf",
   "metadata": {
    "id": "OZVQ28roHwPf"
   },
   "outputs": [],
   "source": [
    "# save data to CSV file\n",
    "df.to_csv('btcusdt_quotes_2h.csv')"
   ]
  },
  {
   "cell_type": "code",
   "execution_count": 87,
   "id": "vKimMYhMs0Yd",
   "metadata": {
    "colab": {
     "base_uri": "https://localhost:8080/",
     "height": 469
    },
    "id": "vKimMYhMs0Yd",
    "outputId": "30fdea28-e4af-4f46-a444-49ec09395d84"
   },
   "outputs": [],
   "source": [
    "df.index = pd.to_datetime(df.index)"
   ]
  },
  {
   "cell_type": "code",
   "execution_count": 89,
   "id": "0a256cf4",
   "metadata": {
    "colab": {
     "base_uri": "https://localhost:8080/",
     "height": 450
    },
    "id": "0a256cf4",
    "outputId": "2396767d-9511-464f-93a4-9b720b8e1962"
   },
   "outputs": [
    {
     "data": {
      "text/html": [
       "<div>\n",
       "<style scoped>\n",
       "    .dataframe tbody tr th:only-of-type {\n",
       "        vertical-align: middle;\n",
       "    }\n",
       "\n",
       "    .dataframe tbody tr th {\n",
       "        vertical-align: top;\n",
       "    }\n",
       "\n",
       "    .dataframe thead th {\n",
       "        text-align: right;\n",
       "    }\n",
       "</style>\n",
       "<table border=\"1\" class=\"dataframe\">\n",
       "  <thead>\n",
       "    <tr style=\"text-align: right;\">\n",
       "      <th></th>\n",
       "      <th>close</th>\n",
       "    </tr>\n",
       "  </thead>\n",
       "  <tbody>\n",
       "    <tr>\n",
       "      <th>2018-01-01 00:00:00</th>\n",
       "      <td>13203.06</td>\n",
       "    </tr>\n",
       "    <tr>\n",
       "      <th>2018-01-01 02:00:00</th>\n",
       "      <td>13410.03</td>\n",
       "    </tr>\n",
       "    <tr>\n",
       "      <th>2018-01-01 04:00:00</th>\n",
       "      <td>13558.99</td>\n",
       "    </tr>\n",
       "    <tr>\n",
       "      <th>2018-01-01 06:00:00</th>\n",
       "      <td>13570.35</td>\n",
       "    </tr>\n",
       "    <tr>\n",
       "      <th>2018-01-01 08:00:00</th>\n",
       "      <td>13616.99</td>\n",
       "    </tr>\n",
       "  </tbody>\n",
       "</table>\n",
       "</div>"
      ],
      "text/plain": [
       "                        close\n",
       "2018-01-01 00:00:00  13203.06\n",
       "2018-01-01 02:00:00  13410.03\n",
       "2018-01-01 04:00:00  13558.99\n",
       "2018-01-01 06:00:00  13570.35\n",
       "2018-01-01 08:00:00  13616.99"
      ]
     },
     "execution_count": 89,
     "metadata": {},
     "output_type": "execute_result"
    }
   ],
   "source": [
    "# select relevant features\n",
    "close = df[['close']]\n",
    "close.head(5)"
   ]
  },
  {
   "cell_type": "code",
   "execution_count": 90,
   "id": "3QLn57OTuxsU",
   "metadata": {
    "id": "3QLn57OTuxsU"
   },
   "outputs": [],
   "source": [
    "# rename index\n",
    "close.index.rename('date_time', inplace=True)"
   ]
  },
  {
   "cell_type": "code",
   "execution_count": 91,
   "id": "e1d67aeb",
   "metadata": {
    "colab": {
     "base_uri": "https://localhost:8080/",
     "height": 450
    },
    "id": "e1d67aeb",
    "outputId": "3002a36f-16ef-453d-f593-5894639ab673"
   },
   "outputs": [
    {
     "data": {
      "text/plain": [
       "<Axes: xlabel='date_time'>"
      ]
     },
     "execution_count": 91,
     "metadata": {},
     "output_type": "execute_result"
    },
    {
     "data": {
      "image/png": "[encoded data removed]",
      "text/plain": [
       "<Figure size 640x480 with 1 Axes>"
      ]
     },
     "metadata": {},
     "output_type": "display_data"
    }
   ],
   "source": [
    "# plot the data\n",
    "close.plot()"
   ]
  },
  {
   "cell_type": "markdown",
   "id": "20fcaf66",
   "metadata": {},
   "source": [
    "This graph highlights Bitcoin's cyclical nature, characterized by boom and bust cycles. The sharp increases in price (bull markets) are often followed by significant corrections."
   ]
  },
  {
   "cell_type": "markdown",
   "id": "0751b4f9",
   "metadata": {},
   "source": [
    "### Normalization\n",
    "\n",
    "We use MinMaxScaler that transforms the data to a specified range, which by default is between 0 and 1. It scales each feature by subtracting the minimum value of the feature and dividing by the range (max - min)"
   ]
  },
  {
   "cell_type": "code",
   "execution_count": 92,
   "id": "lzIyMGURPymZ",
   "metadata": {
    "colab": {
     "base_uri": "https://localhost:8080/"
    },
    "id": "lzIyMGURPymZ",
    "outputId": "7ef4b7ec-67d2-41b5-81d7-cc079d5304e1"
   },
   "outputs": [
    {
     "name": "stderr",
     "output_type": "stream",
     "text": [
      "/var/folders/6w/ff3qhvbn3gj1tnlvhkrdb_j40000gn/T/ipykernel_21305/3384962261.py:3: SettingWithCopyWarning: \n",
      "A value is trying to be set on a copy of a slice from a DataFrame.\n",
      "Try using .loc[row_indexer,col_indexer] = value instead\n",
      "\n",
      "See the caveats in the documentation: https://pandas.pydata.org/pandas-docs/stable/user_guide/indexing.html#returning-a-view-versus-a-copy\n",
      "  close['price_normalized'] = scaler.fit_transform(close[['close']])\n"
     ]
    }
   ],
   "source": [
    "# scale the data\n",
    "scaler = MinMaxScaler()\n",
    "close['price_normalized'] = scaler.fit_transform(close[['close']])"
   ]
  },
  {
   "cell_type": "code",
   "execution_count": 93,
   "id": "EQDXJdXrPypd",
   "metadata": {
    "colab": {
     "base_uri": "https://localhost:8080/",
     "height": 450
    },
    "id": "EQDXJdXrPypd",
    "outputId": "65206368-2bc3-4505-b058-62cf2455c8cc"
   },
   "outputs": [
    {
     "data": {
      "text/html": [
       "<div>\n",
       "<style scoped>\n",
       "    .dataframe tbody tr th:only-of-type {\n",
       "        vertical-align: middle;\n",
       "    }\n",
       "\n",
       "    .dataframe tbody tr th {\n",
       "        vertical-align: top;\n",
       "    }\n",
       "\n",
       "    .dataframe thead th {\n",
       "        text-align: right;\n",
       "    }\n",
       "</style>\n",
       "<table border=\"1\" class=\"dataframe\">\n",
       "  <thead>\n",
       "    <tr style=\"text-align: right;\">\n",
       "      <th></th>\n",
       "      <th>price_normalized</th>\n",
       "    </tr>\n",
       "    <tr>\n",
       "      <th>date_time</th>\n",
       "      <th></th>\n",
       "    </tr>\n",
       "  </thead>\n",
       "  <tbody>\n",
       "    <tr>\n",
       "      <th>2018-01-01 00:00:00</th>\n",
       "      <td>0.142938</td>\n",
       "    </tr>\n",
       "    <tr>\n",
       "      <th>2018-01-01 02:00:00</th>\n",
       "      <td>0.145888</td>\n",
       "    </tr>\n",
       "    <tr>\n",
       "      <th>2018-01-01 04:00:00</th>\n",
       "      <td>0.148010</td>\n",
       "    </tr>\n",
       "    <tr>\n",
       "      <th>2018-01-01 06:00:00</th>\n",
       "      <td>0.148172</td>\n",
       "    </tr>\n",
       "    <tr>\n",
       "      <th>2018-01-01 08:00:00</th>\n",
       "      <td>0.148837</td>\n",
       "    </tr>\n",
       "  </tbody>\n",
       "</table>\n",
       "</div>"
      ],
      "text/plain": [
       "                     price_normalized\n",
       "date_time                            \n",
       "2018-01-01 00:00:00          0.142938\n",
       "2018-01-01 02:00:00          0.145888\n",
       "2018-01-01 04:00:00          0.148010\n",
       "2018-01-01 06:00:00          0.148172\n",
       "2018-01-01 08:00:00          0.148837"
      ]
     },
     "execution_count": 93,
     "metadata": {},
     "output_type": "execute_result"
    }
   ],
   "source": [
    "close = close[['price_normalized']]\n",
    "close.head(5)"
   ]
  },
  {
   "cell_type": "markdown",
   "id": "267352a8",
   "metadata": {},
   "source": [
    "### Train-Test Split and Data Reshaping\n",
    "\n",
    "The dataset is split into training and testing sets. The training set will be used to fit the model, while the test set will evaluate its performance. Data reshaping is performed to match the LSTM's input requirements (3D tensor format)."
   ]
  },
  {
   "cell_type": "code",
   "execution_count": 94,
   "id": "2UQSH9G2D4ar",
   "metadata": {
    "id": "2UQSH9G2D4ar"
   },
   "outputs": [],
   "source": [
    "# create a function to reshape data \n",
    "def df_to_X_y(df, window_size=5):\n",
    "    df_as_np = df.to_numpy()\n",
    "    X = []\n",
    "    y = []\n",
    "    for i in range(len(df_as_np)-window_size):\n",
    "        row = [ a for a in df_as_np[i:i+window_size] ]\n",
    "        X.append(row)\n",
    "        label = df_as_np[i+window_size][-1]  # get the last value in the window\n",
    "        y.append(label)\n",
    "    return np.array(X), np.array(y)[:, np.newaxis]"
   ]
  },
  {
   "cell_type": "code",
   "execution_count": 95,
   "id": "jfBJiAopD4dV",
   "metadata": {
    "colab": {
     "base_uri": "https://localhost:8080/"
    },
    "id": "jfBJiAopD4dV",
    "outputId": "7d0578f1-952f-4dca-9a9f-0fc4339bcd22"
   },
   "outputs": [
    {
     "data": {
      "text/plain": [
       "((29398, 96, 1), (29398, 1))"
      ]
     },
     "execution_count": 95,
     "metadata": {},
     "output_type": "execute_result"
    }
   ],
   "source": [
    "# set window size and apply our function\n",
    "WINDOW_SIZE = 96 \n",
    "X, y = df_to_X_y(close, WINDOW_SIZE)\n",
    "X.shape, y.shape"
   ]
  },
  {
   "cell_type": "code",
   "execution_count": 96,
   "id": "opsroIl2D4fs",
   "metadata": {
    "colab": {
     "base_uri": "https://localhost:8080/"
    },
    "id": "opsroIl2D4fs",
    "outputId": "204b5590-5fd9-4e39-cbfb-b753812a4299"
   },
   "outputs": [
    {
     "data": {
      "text/plain": [
       "((16536, 96, 1),\n",
       " (16536, 1),\n",
       " (5512, 96, 1),\n",
       " (5512, 1),\n",
       " (7350, 96, 1),\n",
       " (7350, 1))"
      ]
     },
     "execution_count": 96,
     "metadata": {},
     "output_type": "execute_result"
    }
   ],
   "source": [
    "# set aside 25% of train and test data for evaluation\n",
    "X_train, X_test, y_train, y_test = train_test_split(X, y,\n",
    "    test_size=0.25, shuffle = False)\n",
    "\n",
    "# use the same function above for the validation set\n",
    "X_train, X_val, y_train, y_val = train_test_split(X_train, y_train, \n",
    "    test_size=0.25, shuffle=False) \n",
    "\n",
    "X_train.shape, y_train.shape, X_val.shape, y_val.shape, X_test.shape, y_test.shape"
   ]
  },
  {
   "cell_type": "markdown",
   "id": "1f297234",
   "metadata": {},
   "source": [
    "### Model Building\n",
    "\n",
    "- LSTM Layers:\n",
    "The first LSTM layer has 64 units with tanh activation and return_sequences=True. The tanh activation function is commonly used in LSTMs to manage gradient flow effectively, especially when dealing with time-series data. The 64 units strike a balance between model complexity and training speed. return_sequences=True ensures that the LSTM passes the sequence of outputs to the next LSTM layer, which is important for learning long-term dependencies in the data.\n",
    "\n",
    "- Dropout Layers:\n",
    "After each LSTM layer, a Dropout of 0.3 is applied to reduce overfitting. Dropout helps by randomly dropping 30% of the units during training, preventing the model from becoming too reliant on specific neurons. This encourages the model to generalize better when predicting on unseen data.\n",
    "\n",
    "- Dense Layers:\n",
    "The Dense layer with 32 units and relu activation is added to perform further transformations on the learned features from the LSTM layers. This fully connected layer allows the network to capture more complex patterns. The l2 regularization with a factor of 0.01 penalizes large weights and encourages the network to stay simpler, which also helps prevent overfitting.\n",
    "\n",
    "- Output layer:\n",
    "This layer with 1 unit and linear activation is used for the prediction of the next price in the sequence. Since we are predicting a continuous value, a linear activation function is most appropriate.\n",
    "Optimizer and Loss Function:\n",
    "\n",
    "The Adam optimizer with a learning rate of 0.001 is chosen due to its ability to adapt the learning rate during training, which helps converge faster and avoids getting stuck in local minima. The Mean Squared Error (MSE) loss function is used because this is a regression problem, and MSE is the most common loss function for such tasks."
   ]
  },
  {
   "cell_type": "code",
   "execution_count": 97,
   "id": "Wv-Z9d_94P1L",
   "metadata": {
    "colab": {
     "base_uri": "https://localhost:8080/"
    },
    "id": "Wv-Z9d_94P1L",
    "outputId": "9b1ba402-5141-459a-a71d-8ac330e648b2"
   },
   "outputs": [
    {
     "name": "stderr",
     "output_type": "stream",
     "text": [
      "/Users/dashuryadova/anaconda3/lib/python3.11/site-packages/keras/src/layers/rnn/rnn.py:204: UserWarning: Do not pass an `input_shape`/`input_dim` argument to a layer. When using Sequential models, prefer using an `Input(shape)` object as the first layer in the model instead.\n",
      "  super().__init__(**kwargs)\n"
     ]
    },
    {
     "data": {
      "text/html": [
       "<pre style=\"white-space:pre;overflow-x:auto;line-height:normal;font-family:Menlo,'DejaVu Sans Mono',consolas,'Courier New',monospace\"><span style=\"font-weight: bold\">Model: \"sequential_1\"</span>\n",
       "</pre>\n"
      ],
      "text/plain": [
       "\u001b[1mModel: \"sequential_1\"\u001b[0m\n"
      ]
     },
     "metadata": {},
     "output_type": "display_data"
    },
    {
     "data": {
      "text/html": [
       "<pre style=\"white-space:pre;overflow-x:auto;line-height:normal;font-family:Menlo,'DejaVu Sans Mono',consolas,'Courier New',monospace\">┏━━━━━━━━━━━━━━━━━━━━━━━━━━━━━━━━━┳━━━━━━━━━━━━━━━━━━━━━━━━┳━━━━━━━━━━━━━━━┓\n",
       "┃<span style=\"font-weight: bold\"> Layer (type)                    </span>┃<span style=\"font-weight: bold\"> Output Shape           </span>┃<span style=\"font-weight: bold\">       Param # </span>┃\n",
       "┡━━━━━━━━━━━━━━━━━━━━━━━━━━━━━━━━━╇━━━━━━━━━━━━━━━━━━━━━━━━╇━━━━━━━━━━━━━━━┩\n",
       "│ lstm_2 (<span style=\"color: #0087ff; text-decoration-color: #0087ff\">LSTM</span>)                   │ (<span style=\"color: #00d7ff; text-decoration-color: #00d7ff\">None</span>, <span style=\"color: #00af00; text-decoration-color: #00af00\">96</span>, <span style=\"color: #00af00; text-decoration-color: #00af00\">64</span>)         │        <span style=\"color: #00af00; text-decoration-color: #00af00\">16,896</span> │\n",
       "├─────────────────────────────────┼────────────────────────┼───────────────┤\n",
       "│ dropout_2 (<span style=\"color: #0087ff; text-decoration-color: #0087ff\">Dropout</span>)             │ (<span style=\"color: #00d7ff; text-decoration-color: #00d7ff\">None</span>, <span style=\"color: #00af00; text-decoration-color: #00af00\">96</span>, <span style=\"color: #00af00; text-decoration-color: #00af00\">64</span>)         │             <span style=\"color: #00af00; text-decoration-color: #00af00\">0</span> │\n",
       "├─────────────────────────────────┼────────────────────────┼───────────────┤\n",
       "│ lstm_3 (<span style=\"color: #0087ff; text-decoration-color: #0087ff\">LSTM</span>)                   │ (<span style=\"color: #00d7ff; text-decoration-color: #00d7ff\">None</span>, <span style=\"color: #00af00; text-decoration-color: #00af00\">64</span>)             │        <span style=\"color: #00af00; text-decoration-color: #00af00\">33,024</span> │\n",
       "├─────────────────────────────────┼────────────────────────┼───────────────┤\n",
       "│ dense_2 (<span style=\"color: #0087ff; text-decoration-color: #0087ff\">Dense</span>)                 │ (<span style=\"color: #00d7ff; text-decoration-color: #00d7ff\">None</span>, <span style=\"color: #00af00; text-decoration-color: #00af00\">32</span>)             │         <span style=\"color: #00af00; text-decoration-color: #00af00\">2,080</span> │\n",
       "├─────────────────────────────────┼────────────────────────┼───────────────┤\n",
       "│ dropout_3 (<span style=\"color: #0087ff; text-decoration-color: #0087ff\">Dropout</span>)             │ (<span style=\"color: #00d7ff; text-decoration-color: #00d7ff\">None</span>, <span style=\"color: #00af00; text-decoration-color: #00af00\">32</span>)             │             <span style=\"color: #00af00; text-decoration-color: #00af00\">0</span> │\n",
       "├─────────────────────────────────┼────────────────────────┼───────────────┤\n",
       "│ dense_3 (<span style=\"color: #0087ff; text-decoration-color: #0087ff\">Dense</span>)                 │ (<span style=\"color: #00d7ff; text-decoration-color: #00d7ff\">None</span>, <span style=\"color: #00af00; text-decoration-color: #00af00\">1</span>)              │            <span style=\"color: #00af00; text-decoration-color: #00af00\">33</span> │\n",
       "└─────────────────────────────────┴────────────────────────┴───────────────┘\n",
       "</pre>\n"
      ],
      "text/plain": [
       "┏━━━━━━━━━━━━━━━━━━━━━━━━━━━━━━━━━┳━━━━━━━━━━━━━━━━━━━━━━━━┳━━━━━━━━━━━━━━━┓\n",
       "┃\u001b[1m \u001b[0m\u001b[1mLayer (type)                   \u001b[0m\u001b[1m \u001b[0m┃\u001b[1m \u001b[0m\u001b[1mOutput Shape          \u001b[0m\u001b[1m \u001b[0m┃\u001b[1m \u001b[0m\u001b[1m      Param #\u001b[0m\u001b[1m \u001b[0m┃\n",
       "┡━━━━━━━━━━━━━━━━━━━━━━━━━━━━━━━━━╇━━━━━━━━━━━━━━━━━━━━━━━━╇━━━━━━━━━━━━━━━┩\n",
       "│ lstm_2 (\u001b[38;5;33mLSTM\u001b[0m)                   │ (\u001b[38;5;45mNone\u001b[0m, \u001b[38;5;34m96\u001b[0m, \u001b[38;5;34m64\u001b[0m)         │        \u001b[38;5;34m16,896\u001b[0m │\n",
       "├─────────────────────────────────┼────────────────────────┼───────────────┤\n",
       "│ dropout_2 (\u001b[38;5;33mDropout\u001b[0m)             │ (\u001b[38;5;45mNone\u001b[0m, \u001b[38;5;34m96\u001b[0m, \u001b[38;5;34m64\u001b[0m)         │             \u001b[38;5;34m0\u001b[0m │\n",
       "├─────────────────────────────────┼────────────────────────┼───────────────┤\n",
       "│ lstm_3 (\u001b[38;5;33mLSTM\u001b[0m)                   │ (\u001b[38;5;45mNone\u001b[0m, \u001b[38;5;34m64\u001b[0m)             │        \u001b[38;5;34m33,024\u001b[0m │\n",
       "├─────────────────────────────────┼────────────────────────┼───────────────┤\n",
       "│ dense_2 (\u001b[38;5;33mDense\u001b[0m)                 │ (\u001b[38;5;45mNone\u001b[0m, \u001b[38;5;34m32\u001b[0m)             │         \u001b[38;5;34m2,080\u001b[0m │\n",
       "├─────────────────────────────────┼────────────────────────┼───────────────┤\n",
       "│ dropout_3 (\u001b[38;5;33mDropout\u001b[0m)             │ (\u001b[38;5;45mNone\u001b[0m, \u001b[38;5;34m32\u001b[0m)             │             \u001b[38;5;34m0\u001b[0m │\n",
       "├─────────────────────────────────┼────────────────────────┼───────────────┤\n",
       "│ dense_3 (\u001b[38;5;33mDense\u001b[0m)                 │ (\u001b[38;5;45mNone\u001b[0m, \u001b[38;5;34m1\u001b[0m)              │            \u001b[38;5;34m33\u001b[0m │\n",
       "└─────────────────────────────────┴────────────────────────┴───────────────┘\n"
      ]
     },
     "metadata": {},
     "output_type": "display_data"
    },
    {
     "data": {
      "text/html": [
       "<pre style=\"white-space:pre;overflow-x:auto;line-height:normal;font-family:Menlo,'DejaVu Sans Mono',consolas,'Courier New',monospace\"><span style=\"font-weight: bold\"> Total params: </span><span style=\"color: #00af00; text-decoration-color: #00af00\">52,033</span> (203.25 KB)\n",
       "</pre>\n"
      ],
      "text/plain": [
       "\u001b[1m Total params: \u001b[0m\u001b[38;5;34m52,033\u001b[0m (203.25 KB)\n"
      ]
     },
     "metadata": {},
     "output_type": "display_data"
    },
    {
     "data": {
      "text/html": [
       "<pre style=\"white-space:pre;overflow-x:auto;line-height:normal;font-family:Menlo,'DejaVu Sans Mono',consolas,'Courier New',monospace\"><span style=\"font-weight: bold\"> Trainable params: </span><span style=\"color: #00af00; text-decoration-color: #00af00\">52,033</span> (203.25 KB)\n",
       "</pre>\n"
      ],
      "text/plain": [
       "\u001b[1m Trainable params: \u001b[0m\u001b[38;5;34m52,033\u001b[0m (203.25 KB)\n"
      ]
     },
     "metadata": {},
     "output_type": "display_data"
    },
    {
     "data": {
      "text/html": [
       "<pre style=\"white-space:pre;overflow-x:auto;line-height:normal;font-family:Menlo,'DejaVu Sans Mono',consolas,'Courier New',monospace\"><span style=\"font-weight: bold\"> Non-trainable params: </span><span style=\"color: #00af00; text-decoration-color: #00af00\">0</span> (0.00 B)\n",
       "</pre>\n"
      ],
      "text/plain": [
       "\u001b[1m Non-trainable params: \u001b[0m\u001b[38;5;34m0\u001b[0m (0.00 B)\n"
      ]
     },
     "metadata": {},
     "output_type": "display_data"
    }
   ],
   "source": [
    "# define a sequential model\n",
    "model2 = Sequential()\n",
    "model2.add(InputLayer((WINDOW_SIZE, 1)))\n",
    "model2.add(LSTM(64, activation='tanh', return_sequences=True, input_shape=(WINDOW_SIZE, 1)))\n",
    "model2.add(Dropout(0.3))\n",
    "model2.add(LSTM(64, activation='tanh', return_sequences=False))\n",
    "model2.add(Dense(32, activation='relu', kernel_regularizer=regularizers.l2(0.01)))\n",
    "model2.add(Dropout(0.3))\n",
    "model2.add(Dense(1, activation='linear'))\n",
    "\n",
    "optimizer = Adam(learning_rate=0.001)\n",
    "model2.compile(optimizer=optimizer, loss='mse')\n",
    "\n",
    "model2.summary()"
   ]
  },
  {
   "cell_type": "code",
   "execution_count": 98,
   "id": "ekpA8XS15eM2",
   "metadata": {
    "colab": {
     "base_uri": "https://localhost:8080/"
    },
    "id": "ekpA8XS15eM2",
    "outputId": "947e80bb-1835-4a26-a7dc-d490e7c6cb62"
   },
   "outputs": [
    {
     "name": "stdout",
     "output_type": "stream",
     "text": [
      "Epoch 1/30\n",
      "\u001b[1m259/259\u001b[0m \u001b[32m━━━━━━━━━━━━━━━━━━━━\u001b[0m\u001b[37m\u001b[0m \u001b[1m16s\u001b[0m 59ms/step - loss: 0.2446 - val_loss: 0.0131\n",
      "Epoch 2/30\n",
      "\u001b[1m259/259\u001b[0m \u001b[32m━━━━━━━━━━━━━━━━━━━━\u001b[0m\u001b[37m\u001b[0m \u001b[1m16s\u001b[0m 60ms/step - loss: 0.0092 - val_loss: 0.0010\n",
      "Epoch 3/30\n",
      "\u001b[1m259/259\u001b[0m \u001b[32m━━━━━━━━━━━━━━━━━━━━\u001b[0m\u001b[37m\u001b[0m \u001b[1m16s\u001b[0m 61ms/step - loss: 0.0036 - val_loss: 8.1997e-04\n",
      "Epoch 4/30\n",
      "\u001b[1m259/259\u001b[0m \u001b[32m━━━━━━━━━━━━━━━━━━━━\u001b[0m\u001b[37m\u001b[0m \u001b[1m16s\u001b[0m 61ms/step - loss: 0.0030 - val_loss: 0.0011\n",
      "Epoch 5/30\n",
      "\u001b[1m259/259\u001b[0m \u001b[32m━━━━━━━━━━━━━━━━━━━━\u001b[0m\u001b[37m\u001b[0m \u001b[1m16s\u001b[0m 61ms/step - loss: 0.0031 - val_loss: 0.0014\n",
      "Epoch 6/30\n",
      "\u001b[1m259/259\u001b[0m \u001b[32m━━━━━━━━━━━━━━━━━━━━\u001b[0m\u001b[37m\u001b[0m \u001b[1m16s\u001b[0m 61ms/step - loss: 0.0028 - val_loss: 0.0032\n",
      "Epoch 7/30\n",
      "\u001b[1m259/259\u001b[0m \u001b[32m━━━━━━━━━━━━━━━━━━━━\u001b[0m\u001b[37m\u001b[0m \u001b[1m16s\u001b[0m 61ms/step - loss: 0.0028 - val_loss: 0.0026\n",
      "Epoch 8/30\n",
      "\u001b[1m259/259\u001b[0m \u001b[32m━━━━━━━━━━━━━━━━━━━━\u001b[0m\u001b[37m\u001b[0m \u001b[1m16s\u001b[0m 61ms/step - loss: 0.0030 - val_loss: 6.7963e-04\n",
      "Epoch 9/30\n",
      "\u001b[1m259/259\u001b[0m \u001b[32m━━━━━━━━━━━━━━━━━━━━\u001b[0m\u001b[37m\u001b[0m \u001b[1m16s\u001b[0m 61ms/step - loss: 0.0028 - val_loss: 0.0016\n",
      "Epoch 10/30\n",
      "\u001b[1m259/259\u001b[0m \u001b[32m━━━━━━━━━━━━━━━━━━━━\u001b[0m\u001b[37m\u001b[0m \u001b[1m16s\u001b[0m 60ms/step - loss: 0.0028 - val_loss: 4.2530e-04\n",
      "Epoch 11/30\n",
      "\u001b[1m259/259\u001b[0m \u001b[32m━━━━━━━━━━━━━━━━━━━━\u001b[0m\u001b[37m\u001b[0m \u001b[1m16s\u001b[0m 60ms/step - loss: 0.0029 - val_loss: 5.7294e-04\n",
      "Epoch 12/30\n",
      "\u001b[1m259/259\u001b[0m \u001b[32m━━━━━━━━━━━━━━━━━━━━\u001b[0m\u001b[37m\u001b[0m \u001b[1m16s\u001b[0m 61ms/step - loss: 0.0027 - val_loss: 0.0012\n",
      "Epoch 13/30\n",
      "\u001b[1m259/259\u001b[0m \u001b[32m━━━━━━━━━━━━━━━━━━━━\u001b[0m\u001b[37m\u001b[0m \u001b[1m16s\u001b[0m 61ms/step - loss: 0.0027 - val_loss: 3.9201e-04\n",
      "Epoch 14/30\n",
      "\u001b[1m259/259\u001b[0m \u001b[32m━━━━━━━━━━━━━━━━━━━━\u001b[0m\u001b[37m\u001b[0m \u001b[1m16s\u001b[0m 60ms/step - loss: 0.0027 - val_loss: 7.9479e-04\n",
      "Epoch 15/30\n",
      "\u001b[1m259/259\u001b[0m \u001b[32m━━━━━━━━━━━━━━━━━━━━\u001b[0m\u001b[37m\u001b[0m \u001b[1m16s\u001b[0m 61ms/step - loss: 0.0028 - val_loss: 7.0883e-04\n",
      "Epoch 16/30\n",
      "\u001b[1m259/259\u001b[0m \u001b[32m━━━━━━━━━━━━━━━━━━━━\u001b[0m\u001b[37m\u001b[0m \u001b[1m16s\u001b[0m 62ms/step - loss: 0.0027 - val_loss: 4.3616e-04\n",
      "Epoch 17/30\n",
      "\u001b[1m259/259\u001b[0m \u001b[32m━━━━━━━━━━━━━━━━━━━━\u001b[0m\u001b[37m\u001b[0m \u001b[1m16s\u001b[0m 60ms/step - loss: 0.0030 - val_loss: 8.2291e-04\n",
      "Epoch 18/30\n",
      "\u001b[1m259/259\u001b[0m \u001b[32m━━━━━━━━━━━━━━━━━━━━\u001b[0m\u001b[37m\u001b[0m \u001b[1m16s\u001b[0m 61ms/step - loss: 0.0025 - val_loss: 0.0015\n",
      "Epoch 19/30\n",
      "\u001b[1m259/259\u001b[0m \u001b[32m━━━━━━━━━━━━━━━━━━━━\u001b[0m\u001b[37m\u001b[0m \u001b[1m16s\u001b[0m 62ms/step - loss: 0.0026 - val_loss: 0.0013\n",
      "Epoch 20/30\n",
      "\u001b[1m259/259\u001b[0m \u001b[32m━━━━━━━━━━━━━━━━━━━━\u001b[0m\u001b[37m\u001b[0m \u001b[1m16s\u001b[0m 61ms/step - loss: 0.0027 - val_loss: 4.1357e-04\n",
      "Epoch 21/30\n",
      "\u001b[1m259/259\u001b[0m \u001b[32m━━━━━━━━━━━━━━━━━━━━\u001b[0m\u001b[37m\u001b[0m \u001b[1m16s\u001b[0m 61ms/step - loss: 0.0026 - val_loss: 3.6345e-04\n",
      "Epoch 22/30\n",
      "\u001b[1m259/259\u001b[0m \u001b[32m━━━━━━━━━━━━━━━━━━━━\u001b[0m\u001b[37m\u001b[0m \u001b[1m16s\u001b[0m 61ms/step - loss: 0.0029 - val_loss: 0.0019\n",
      "Epoch 23/30\n",
      "\u001b[1m259/259\u001b[0m \u001b[32m━━━━━━━━━━━━━━━━━━━━\u001b[0m\u001b[37m\u001b[0m \u001b[1m16s\u001b[0m 60ms/step - loss: 0.0026 - val_loss: 8.8725e-04\n",
      "Epoch 24/30\n",
      "\u001b[1m259/259\u001b[0m \u001b[32m━━━━━━━━━━━━━━━━━━━━\u001b[0m\u001b[37m\u001b[0m \u001b[1m16s\u001b[0m 61ms/step - loss: 0.0026 - val_loss: 3.2649e-04\n",
      "Epoch 25/30\n",
      "\u001b[1m259/259\u001b[0m \u001b[32m━━━━━━━━━━━━━━━━━━━━\u001b[0m\u001b[37m\u001b[0m \u001b[1m16s\u001b[0m 60ms/step - loss: 0.0028 - val_loss: 3.8346e-04\n",
      "Epoch 26/30\n",
      "\u001b[1m259/259\u001b[0m \u001b[32m━━━━━━━━━━━━━━━━━━━━\u001b[0m\u001b[37m\u001b[0m \u001b[1m16s\u001b[0m 61ms/step - loss: 0.0026 - val_loss: 0.0015\n",
      "Epoch 27/30\n",
      "\u001b[1m259/259\u001b[0m \u001b[32m━━━━━━━━━━━━━━━━━━━━\u001b[0m\u001b[37m\u001b[0m \u001b[1m16s\u001b[0m 62ms/step - loss: 0.0026 - val_loss: 6.9571e-04\n",
      "Epoch 28/30\n",
      "\u001b[1m259/259\u001b[0m \u001b[32m━━━━━━━━━━━━━━━━━━━━\u001b[0m\u001b[37m\u001b[0m \u001b[1m16s\u001b[0m 61ms/step - loss: 0.0026 - val_loss: 4.3156e-04\n",
      "Epoch 29/30\n",
      "\u001b[1m259/259\u001b[0m \u001b[32m━━━━━━━━━━━━━━━━━━━━\u001b[0m\u001b[37m\u001b[0m \u001b[1m16s\u001b[0m 61ms/step - loss: 0.0027 - val_loss: 3.6679e-04\n",
      "Epoch 30/30\n",
      "\u001b[1m259/259\u001b[0m \u001b[32m━━━━━━━━━━━━━━━━━━━━\u001b[0m\u001b[37m\u001b[0m \u001b[1m16s\u001b[0m 62ms/step - loss: 0.0024 - val_loss: 3.5537e-04\n"
     ]
    }
   ],
   "source": [
    "# fit the model\n",
    "hystory = model2.fit(X_train, y_train, validation_data=(X_val, y_val), \n",
    "           epochs=30, batch_size=64)"
   ]
  },
  {
   "cell_type": "code",
   "execution_count": 100,
   "id": "XQLrEYvB5gqk",
   "metadata": {
    "colab": {
     "base_uri": "https://localhost:8080/"
    },
    "id": "XQLrEYvB5gqk",
    "outputId": "c6cd7313-f879-4fe3-8cf0-02d4b8d476fd"
   },
   "outputs": [
    {
     "name": "stdout",
     "output_type": "stream",
     "text": [
      "\u001b[1m230/230\u001b[0m \u001b[32m━━━━━━━━━━━━━━━━━━━━\u001b[0m\u001b[37m\u001b[0m \u001b[1m2s\u001b[0m 9ms/step\n"
     ]
    }
   ],
   "source": [
    "#make a prediction\n",
    "test_prediction = model2.predict(X_test)"
   ]
  },
  {
   "cell_type": "code",
   "execution_count": 101,
   "id": "2pkUTuKb5gtR",
   "metadata": {
    "colab": {
     "base_uri": "https://localhost:8080/"
    },
    "id": "2pkUTuKb5gtR",
    "outputId": "ee42fec8-5dd4-47d9-ba17-b3eeb4f02b22"
   },
   "outputs": [
    {
     "name": "stdout",
     "output_type": "stream",
     "text": [
      "\u001b[1m230/230\u001b[0m \u001b[32m━━━━━━━━━━━━━━━━━━━━\u001b[0m\u001b[37m\u001b[0m \u001b[1m2s\u001b[0m 8ms/step - loss: 4.3050e-04\n"
     ]
    }
   ],
   "source": [
    "# evaluate the model\n",
    "test_loss = model2.evaluate(X_test, y_test)"
   ]
  },
  {
   "cell_type": "markdown",
   "id": "a7c21efb",
   "metadata": {},
   "source": [
    "### Visualization of the results"
   ]
  },
  {
   "cell_type": "code",
   "execution_count": 102,
   "id": "Lv1h-XRt5gvx",
   "metadata": {
    "colab": {
     "base_uri": "https://localhost:8080/",
     "height": 472
    },
    "id": "Lv1h-XRt5gvx",
    "outputId": "9f6c05e0-038e-458e-e530-1892f8c96ccb"
   },
   "outputs": [
    {
     "data": {
      "image/png": "[encoded data removed]",
      "text/plain": [
       "<Figure size 640x480 with 1 Axes>"
      ]
     },
     "metadata": {},
     "output_type": "display_data"
    }
   ],
   "source": [
    "# get the training and validation loss\n",
    "train_loss = hystory.history['loss']\n",
    "val_loss = hystory.history['val_loss']\n",
    "\n",
    "# plot the training and validation loss\n",
    "plt.plot(train_loss, label='Training Loss')\n",
    "plt.plot(val_loss, label='Validation Loss')\n",
    "plt.title('Model loss')\n",
    "plt.ylabel('Loss')\n",
    "plt.xlabel('Epoch')\n",
    "plt.legend()\n",
    "plt.show()"
   ]
  },
  {
   "cell_type": "markdown",
   "id": "a32de92c",
   "metadata": {},
   "source": [
    "Both training and validation loss drop steeply during the first few epochs, which means that the model quickly learns basic patterns in the data. After that, both losses stabilize and remain low, with little to no divergence between them, which is a good sign. The nearly perfect fit (loss close to 0) may suggest that the model fits the data very well, but it could also indicate potential overfitting if the dataset is too small or too simple."
   ]
  },
  {
   "cell_type": "code",
   "execution_count": 110,
   "id": "6aaf3f39",
   "metadata": {},
   "outputs": [
    {
     "name": "stdout",
     "output_type": "stream",
     "text": [
      "Mean Squared Error (MSE): 0.000705258510489865\n",
      "Root Mean Squared Error (RMSE): 0.02655670368268368\n"
     ]
    }
   ],
   "source": [
    "# calculate Mean Squared Error (MSE)\n",
    "mse = mean_squared_error(y_test, test_prediction)\n",
    "\n",
    "# calculate Root Mean Squared Error (RMSE)\n",
    "rmse = np.sqrt(mse)\n",
    "\n",
    "print(f\"Mean Squared Error (MSE): {mse}\")\n",
    "print(f\"Root Mean Squared Error (RMSE): {rmse}\")\n"
   ]
  },
  {
   "cell_type": "markdown",
   "id": "65e45cbe",
   "metadata": {},
   "source": [
    "The results indicate the following:\n",
    "\n",
    "- Mean Squared Error (MSE): 0.000705\n",
    "This is the average of the squared differences between the predicted and actual prices. MSE is quite low, which is a good sign, indicating that our model is performing well in predicting the BTC/USDT prices.\n",
    "\n",
    "- Root Mean Squared Error (RMSE): 0.0266\n",
    "The RMSE is the square root of the MSE and represents the standard deviation of the prediction errors. RMSE value of 0.0266 means that, on average, our model's predictions are off by around 2.66% (assuming the normalized prices are between 0 and 1). This is also a good result, as it shows that the predictions are fairly accurate."
   ]
  },
  {
   "cell_type": "code",
   "execution_count": 111,
   "id": "oN-OD3v45gyW",
   "metadata": {
    "id": "oN-OD3v45gyW"
   },
   "outputs": [],
   "source": [
    "# convert the normalized predicted and actual test data back to their original scale\n",
    "y_test_inverse = scaler.inverse_transform(y_test)\n",
    "test_prediction_inverse = scaler.inverse_transform(test_prediction)"
   ]
  },
  {
   "cell_type": "code",
   "execution_count": 112,
   "id": "Zia10TWJ6z5b",
   "metadata": {
    "colab": {
     "base_uri": "https://localhost:8080/",
     "height": 472
    },
    "id": "Zia10TWJ6z5b",
    "outputId": "e27afc31-70eb-47c5-9cfb-7608c419d354"
   },
   "outputs": [
    {
     "data": {
      "image/png": "[encoded data removed]",
      "text/plain": [
       "<Figure size 640x480 with 1 Axes>"
      ]
     },
     "metadata": {},
     "output_type": "display_data"
    }
   ],
   "source": [
    "# visualize the model's performance by comparing the actual and predicted test prices on a line plot\n",
    "plt.plot(y_test_inverse, label=\"Actual Price\", color='green')\n",
    "plt.plot(test_prediction_inverse, label=\"Predicted Price\", color='red')\n",
    "\n",
    "plt.title('BTC/USDT price prediction')\n",
    "plt.xlabel('Time (every 2h)')\n",
    "plt.ylabel('Price')\n",
    "plt.legend(loc='best')\n",
    " \n",
    "plt.show()"
   ]
  },
  {
   "cell_type": "markdown",
   "id": "63dc5de2",
   "metadata": {
    "id": "rAGOdGRWD5TE"
   },
   "source": [
    "- Good performance: LSTM model is able to predict the BTC/USDT price movements quite accurately, suggesting that the model has successfully learned the time-dependent relationships in the dataset.\n",
    "\n",
    "- Minor deviations: There are some points where the model doesn't perfectly follow the actual price, which could be due to the inherent volatility of BTC prices or the model's limitations in handling extreme price fluctuations.\n",
    "\n",
    "- Further evaluation: It would be useful to evaluate the model's performance using metrics like Mean Squared Error (MSE) or Root Mean Squared Error (RMSE) to quantify the accuracy of the predictions."
   ]
  },
  {
   "cell_type": "markdown",
   "id": "a904ae07",
   "metadata": {},
   "source": [
    "## Conclusion:\n",
    "\n",
    "The LSTM model for predicting USDT price movements performed successfully. After data preprocessing and training, the model showed a good fit, with low and stable training and validation losses. The calculated metrics, MSE = 0.0007 and RMSE = 0.0266, indicate a high level of accuracy, with average prediction errors of only about 2.66%. The model effectively captures the overall trends in BTC/USDT prices, despite minor deviations during sharp price fluctuations."
   ]
  }
 ],
 "metadata": {
  "colab": {
   "provenance": []
  },
  "kernelspec": {
   "display_name": "Python 3 (ipykernel)",
   "language": "python",
   "name": "python3"
  },
  "language_info": {
   "codemirror_mode": {
    "name": "ipython",
    "version": 3
   },
   "file_extension": ".py",
   "mimetype": "text/x-python",
   "name": "python",
   "nbconvert_exporter": "python",
   "pygments_lexer": "ipython3",
   "version": "3.11.4"
  }
 },
 "nbformat": 4,
 "nbformat_minor": 5
}
